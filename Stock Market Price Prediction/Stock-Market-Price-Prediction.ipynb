{
 "cells": [
  {
   "cell_type": "code",
   "execution_count": 1,
   "metadata": {},
   "outputs": [],
   "source": [
    "import pandas as pd\n",
    "import numpy as np\n",
    "import matplotlib.pyplot as plt\n",
    "import seaborn as sns\n",
    "from keras.layers import Dense\n",
    "from keras.models import Sequential\n",
    "from keras.callbacks import EarlyStopping\n",
    "import keras"
   ]
  },
  {
   "cell_type": "code",
   "execution_count": 2,
   "metadata": {},
   "outputs": [],
   "source": [
    "stocks = pd.read_csv('stock_data.csv')"
   ]
  },
  {
   "cell_type": "code",
   "execution_count": 3,
   "metadata": {},
   "outputs": [
    {
     "data": {
      "text/html": [
       "<div>\n",
       "<style scoped>\n",
       "    .dataframe tbody tr th:only-of-type {\n",
       "        vertical-align: middle;\n",
       "    }\n",
       "\n",
       "    .dataframe tbody tr th {\n",
       "        vertical-align: top;\n",
       "    }\n",
       "\n",
       "    .dataframe thead th {\n",
       "        text-align: right;\n",
       "    }\n",
       "</style>\n",
       "<table border=\"1\" class=\"dataframe\">\n",
       "  <thead>\n",
       "    <tr style=\"text-align: right;\">\n",
       "      <th></th>\n",
       "      <th>Date</th>\n",
       "      <th>Open</th>\n",
       "      <th>High</th>\n",
       "      <th>Low</th>\n",
       "      <th>Close</th>\n",
       "      <th>Volume</th>\n",
       "      <th>OpenInt</th>\n",
       "      <th>Stock</th>\n",
       "    </tr>\n",
       "  </thead>\n",
       "  <tbody>\n",
       "    <tr>\n",
       "      <th>0</th>\n",
       "      <td>1984-09-07</td>\n",
       "      <td>0.42388</td>\n",
       "      <td>0.42902</td>\n",
       "      <td>0.41874</td>\n",
       "      <td>0.42388</td>\n",
       "      <td>23220030</td>\n",
       "      <td>0</td>\n",
       "      <td>AAPL</td>\n",
       "    </tr>\n",
       "    <tr>\n",
       "      <th>1</th>\n",
       "      <td>1984-09-10</td>\n",
       "      <td>0.42388</td>\n",
       "      <td>0.42516</td>\n",
       "      <td>0.41366</td>\n",
       "      <td>0.42134</td>\n",
       "      <td>18022532</td>\n",
       "      <td>0</td>\n",
       "      <td>AAPL</td>\n",
       "    </tr>\n",
       "    <tr>\n",
       "      <th>2</th>\n",
       "      <td>1984-09-11</td>\n",
       "      <td>0.42516</td>\n",
       "      <td>0.43668</td>\n",
       "      <td>0.42516</td>\n",
       "      <td>0.42902</td>\n",
       "      <td>42498199</td>\n",
       "      <td>0</td>\n",
       "      <td>AAPL</td>\n",
       "    </tr>\n",
       "    <tr>\n",
       "      <th>3</th>\n",
       "      <td>1984-09-12</td>\n",
       "      <td>0.42902</td>\n",
       "      <td>0.43157</td>\n",
       "      <td>0.41618</td>\n",
       "      <td>0.41618</td>\n",
       "      <td>37125801</td>\n",
       "      <td>0</td>\n",
       "      <td>AAPL</td>\n",
       "    </tr>\n",
       "    <tr>\n",
       "      <th>4</th>\n",
       "      <td>1984-09-13</td>\n",
       "      <td>0.43927</td>\n",
       "      <td>0.44052</td>\n",
       "      <td>0.43927</td>\n",
       "      <td>0.43927</td>\n",
       "      <td>57822062</td>\n",
       "      <td>0</td>\n",
       "      <td>AAPL</td>\n",
       "    </tr>\n",
       "  </tbody>\n",
       "</table>\n",
       "</div>"
      ],
      "text/plain": [
       "         Date     Open     High      Low    Close    Volume  OpenInt Stock\n",
       "0  1984-09-07  0.42388  0.42902  0.41874  0.42388  23220030        0  AAPL\n",
       "1  1984-09-10  0.42388  0.42516  0.41366  0.42134  18022532        0  AAPL\n",
       "2  1984-09-11  0.42516  0.43668  0.42516  0.42902  42498199        0  AAPL\n",
       "3  1984-09-12  0.42902  0.43157  0.41618  0.41618  37125801        0  AAPL\n",
       "4  1984-09-13  0.43927  0.44052  0.43927  0.43927  57822062        0  AAPL"
      ]
     },
     "execution_count": 3,
     "metadata": {},
     "output_type": "execute_result"
    }
   ],
   "source": [
    "stocks.head()"
   ]
  },
  {
   "cell_type": "code",
   "execution_count": 4,
   "metadata": {},
   "outputs": [
    {
     "data": {
      "text/plain": [
       "AAPL    8364\n",
       "MSFT    7983\n",
       "TSLA    1858\n",
       "FB      1381\n",
       "Name: Stock, dtype: int64"
      ]
     },
     "execution_count": 4,
     "metadata": {},
     "output_type": "execute_result"
    }
   ],
   "source": [
    "stocks['Stock'].value_counts()"
   ]
  },
  {
   "cell_type": "code",
   "execution_count": 5,
   "metadata": {},
   "outputs": [],
   "source": [
    "msft = stocks[['Date','Open']][stocks['Stock']=='MSFT']"
   ]
  },
  {
   "cell_type": "code",
   "execution_count": 6,
   "metadata": {},
   "outputs": [],
   "source": [
    "x = []\n",
    "y = []\n",
    "for i in range(100, len(msft)):\n",
    "    x.append(msft['Open'].values[i-100:i])\n",
    "    y.append(msft['Open'].values[i])\n",
    "x = np.array(x)\n",
    "y = np.array(y)"
   ]
  },
  {
   "cell_type": "code",
   "execution_count": 7,
   "metadata": {},
   "outputs": [
    {
     "data": {
      "text/plain": [
       "(7883, 100)"
      ]
     },
     "execution_count": 7,
     "metadata": {},
     "output_type": "execute_result"
    }
   ],
   "source": [
    "x.shape"
   ]
  },
  {
   "cell_type": "code",
   "execution_count": 8,
   "metadata": {},
   "outputs": [],
   "source": [
    "x = np.reshape(x,(x.shape[0],x.shape[1],1))"
   ]
  },
  {
   "cell_type": "code",
   "execution_count": 9,
   "metadata": {},
   "outputs": [
    {
     "data": {
      "text/plain": [
       "(7883, 100, 1)"
      ]
     },
     "execution_count": 9,
     "metadata": {},
     "output_type": "execute_result"
    }
   ],
   "source": [
    "x.shape"
   ]
  },
  {
   "cell_type": "code",
   "execution_count": 10,
   "metadata": {
    "scrolled": true
   },
   "outputs": [
    {
     "data": {
      "text/plain": [
       "array([[[6.7200e-02],\n",
       "        [7.5330e-02],\n",
       "        [7.5330e-02],\n",
       "        ...,\n",
       "        [7.5330e-02],\n",
       "        [7.5330e-02],\n",
       "        [7.5330e-02]],\n",
       "\n",
       "       [[7.5330e-02],\n",
       "        [7.5330e-02],\n",
       "        [7.5330e-02],\n",
       "        ...,\n",
       "        [7.5330e-02],\n",
       "        [7.5330e-02],\n",
       "        [7.5330e-02]],\n",
       "\n",
       "       [[7.5330e-02],\n",
       "        [7.5330e-02],\n",
       "        [7.5330e-02],\n",
       "        ...,\n",
       "        [7.5330e-02],\n",
       "        [7.5330e-02],\n",
       "        [7.5330e-02]],\n",
       "\n",
       "       ...,\n",
       "\n",
       "       [[7.0126e+01],\n",
       "        [7.0445e+01],\n",
       "        [6.9838e+01],\n",
       "        ...,\n",
       "        [8.4080e+01],\n",
       "        [8.4200e+01],\n",
       "        [8.4770e+01]],\n",
       "\n",
       "       [[7.0445e+01],\n",
       "        [6.9838e+01],\n",
       "        [7.0166e+01],\n",
       "        ...,\n",
       "        [8.4200e+01],\n",
       "        [8.4770e+01],\n",
       "        [8.4140e+01]],\n",
       "\n",
       "       [[6.9838e+01],\n",
       "        [7.0166e+01],\n",
       "        [6.9719e+01],\n",
       "        ...,\n",
       "        [8.4770e+01],\n",
       "        [8.4140e+01],\n",
       "        [8.4110e+01]]])"
      ]
     },
     "execution_count": 10,
     "metadata": {},
     "output_type": "execute_result"
    }
   ],
   "source": [
    "x"
   ]
  },
  {
   "cell_type": "code",
   "execution_count": 11,
   "metadata": {},
   "outputs": [
    {
     "data": {
      "text/plain": [
       "7883"
      ]
     },
     "execution_count": 11,
     "metadata": {},
     "output_type": "execute_result"
    }
   ],
   "source": [
    "len(x)"
   ]
  },
  {
   "cell_type": "code",
   "execution_count": 12,
   "metadata": {},
   "outputs": [
    {
     "data": {
      "text/plain": [
       "array([7.533e-02, 7.533e-02, 7.533e-02, ..., 8.414e+01, 8.411e+01,\n",
       "       8.379e+01])"
      ]
     },
     "execution_count": 12,
     "metadata": {},
     "output_type": "execute_result"
    }
   ],
   "source": [
    "y"
   ]
  },
  {
   "cell_type": "code",
   "execution_count": 13,
   "metadata": {},
   "outputs": [],
   "source": [
    "from keras.layers import LSTM"
   ]
  },
  {
   "cell_type": "code",
   "execution_count": 14,
   "metadata": {},
   "outputs": [],
   "source": [
    "model = Sequential()\n",
    "model.add(LSTM(units=200, return_sequences=True, input_shape=(100,1)))\n",
    "model.add(LSTM(units=200, return_sequences=True))\n",
    "model.add(LSTM(units=200, return_sequences=True))\n",
    "model.add(LSTM(units=200, return_sequences=True))\n",
    "model.add(LSTM(units=200, return_sequences=True))\n",
    "model.add(LSTM(units=200))\n",
    "model.add(Dense(units=1))\n",
    "model.compile(optimizer='rmsprop', loss='mse', metrics=['mae','accuracy'])"
   ]
  },
  {
   "cell_type": "code",
   "execution_count": 15,
   "metadata": {},
   "outputs": [
    {
     "name": "stdout",
     "output_type": "stream",
     "text": [
      "Epoch 1/10\n",
      "158/158 [==============================] - 324s 2s/step - loss: 187.5312 - mae: 8.1282 - accuracy: 0.0000e+00\n",
      "Epoch 2/10\n",
      "158/158 [==============================] - 296s 2s/step - loss: 70.9013 - mae: 4.4870 - accuracy: 0.0000e+00\n",
      "Epoch 3/10\n",
      "158/158 [==============================] - 311s 2s/step - loss: 23.2237 - mae: 2.6614 - accuracy: 0.0000e+00\n",
      "Epoch 4/10\n",
      "158/158 [==============================] - 323s 2s/step - loss: 12.7110 - mae: 2.0090 - accuracy: 0.0000e+00\n",
      "Epoch 5/10\n",
      "158/158 [==============================] - 337s 2s/step - loss: 9.8742 - mae: 1.8767 - accuracy: 0.0000e+00\n",
      "Epoch 6/10\n",
      "158/158 [==============================] - 340s 2s/step - loss: 4.9162 - mae: 1.4317 - accuracy: 0.0000e+00\n",
      "Epoch 7/10\n",
      "158/158 [==============================] - 365s 2s/step - loss: 4.9242 - mae: 1.2890 - accuracy: 0.0000e+00\n",
      "Epoch 8/10\n",
      "158/158 [==============================] - 380s 2s/step - loss: 3.2074 - mae: 1.0534 - accuracy: 0.0000e+00\n",
      "Epoch 9/10\n",
      "158/158 [==============================] - 320s 2s/step - loss: 2.8985 - mae: 1.0176 - accuracy: 0.0000e+00\n",
      "Epoch 10/10\n",
      "158/158 [==============================] - 315s 2s/step - loss: 2.4797 - mae: 0.9542 - accuracy: 0.0000e+00\n"
     ]
    },
    {
     "data": {
      "text/plain": [
       "<keras.callbacks.History at 0x1425c340340>"
      ]
     },
     "execution_count": 15,
     "metadata": {},
     "output_type": "execute_result"
    }
   ],
   "source": [
    "model.fit(x,y, epochs=10, batch_size=50)"
   ]
  },
  {
   "cell_type": "code",
   "execution_count": null,
   "metadata": {},
   "outputs": [],
   "source": []
  }
 ],
 "metadata": {
  "kernelspec": {
   "display_name": "Python 3",
   "language": "python",
   "name": "python3"
  },
  "language_info": {
   "codemirror_mode": {
    "name": "ipython",
    "version": 3
   },
   "file_extension": ".py",
   "mimetype": "text/x-python",
   "name": "python",
   "nbconvert_exporter": "python",
   "pygments_lexer": "ipython3",
   "version": "3.8.3"
  }
 },
 "nbformat": 4,
 "nbformat_minor": 4
}
