{
 "cells": [
  {
   "cell_type": "code",
   "execution_count": 2,
   "metadata": {},
   "outputs": [],
   "source": [
    "import pandas as pd\n",
    "import tkinter as tk\n",
    "import warnings\n",
    "warnings.filterwarnings('ignore')"
   ]
  },
  {
   "cell_type": "code",
   "execution_count": 3,
   "metadata": {},
   "outputs": [],
   "source": [
    "cols = 'user_id item_id rating timestamp'.split()\n",
    "df = pd.read_csv('u.data', sep = '\\t', names = cols)\n",
    "cols_movies = ['item_id', 'title']+[str(i) for i in range(24)]\n",
    "movie_titles = pd.read_csv('u.item', sep = '|', encoding = 'latin-1', names = cols_movies)\n",
    "movie_titles = movie_titles[['item_id', 'title']]\n",
    "data = pd.merge(df, movie_titles, on = 'item_id')\n",
    "rating = pd.DataFrame(data.groupby('title')['rating'].mean())\n",
    "rating['count'] = data['title'].value_counts()\n",
    "pivot_df = data.pivot_table(index = 'user_id', columns = 'title', values = 'rating')\n",
    "\n",
    "\n",
    "app = tk.Tk()\n",
    "app.title('Recommender System')\n",
    "app.geometry('350x200')\n",
    "\n",
    "tk.Label(app, text = 'Movie You Watched:').place(x = 25, y = 25)\n",
    "tk.Label(app, text = 'Recommended for you: ').place(x = 25, y =100 )\n",
    "tk.Label(app, text = 'Also try: ').place(x =25 , y = 125)\n",
    "\n",
    "movie_var = tk.Variable(app)\n",
    "tk.Entry(app, textvariable = movie_var, width = 20).place(x = 180, y = 25)\n",
    "\n",
    "\n",
    "recommend_var = tk.Variable(app)\n",
    "recommend_var.set('Type movie name..')\n",
    "tk.Label(app, textvariable = recommend_var).place(x = 180, y=100)\n",
    "\n",
    "also_try_var = tk.Variable(app)\n",
    "also_try_var.set('Type movie name..')\n",
    "tk.Label(app, textvariable = also_try_var).place(x = 180, y = 125)\n",
    "\n",
    "def find_recommendation():\n",
    "    movie = movie_var.get().lower().strip()\n",
    "    try:\n",
    "        movie = movie_titles['title'][movie_titles['title'].apply(lambda x: movie in x.lower())].values[0]\n",
    "        print(movie)\n",
    "        movie_var.set(movie)\n",
    "    except IndexError:\n",
    "        print('Movie Not Found')\n",
    "    else:\n",
    "        corr_df = pd.DataFrame(pivot_df.corrwith(pivot_df['movie']), columns = ['Correlation'])\n",
    "        corr_df.dropna(inplace = True)\n",
    "        corr_df = corr_df.join(rating['count'])\n",
    "        corr_df.sort_values(by = 'Correlation', ascending = False)\n",
    "        \n",
    "    \n",
    "tk.Button(app, text = 'Find Suggestion', command = find_recommendation).place(x = 125, y = 60)\n",
    "\n",
    "\n",
    "\n",
    "\n",
    "app.mainloop()"
   ]
  },
  {
   "cell_type": "code",
   "execution_count": null,
   "metadata": {},
   "outputs": [],
   "source": []
  }
 ],
 "metadata": {
  "kernelspec": {
   "display_name": "Python 3",
   "language": "python",
   "name": "python3"
  },
  "language_info": {
   "codemirror_mode": {
    "name": "ipython",
    "version": 3
   },
   "file_extension": ".py",
   "mimetype": "text/x-python",
   "name": "python",
   "nbconvert_exporter": "python",
   "pygments_lexer": "ipython3",
   "version": "3.8.3"
  }
 },
 "nbformat": 4,
 "nbformat_minor": 4
}
